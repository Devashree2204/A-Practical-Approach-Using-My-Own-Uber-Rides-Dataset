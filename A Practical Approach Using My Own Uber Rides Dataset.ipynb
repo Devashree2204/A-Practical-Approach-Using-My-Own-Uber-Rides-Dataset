{
 "cells": [
  {
   "cell_type": "markdown",
   "id": "48a8b62e",
   "metadata": {},
   "source": [
    "# Problem Statement:\n",
    "\n",
    "- Lack of visibility on business-main metrics hindering insights and decision-making for managers.\n",
    "- Need to establish a clear understanding of the purpose and goals of data manipulation and analysis.\n",
    "- Formulating specific questions to guide the analysis process.\n",
    "- Questions include trip frequency, completion and cancellation rates, drop-off locations, preferred product types, average fare, distance, amount, and time spent on rides, weekday fare averages, longest/shortest and most/least expensive rides, and average lead time before initiating a trip.\n",
    "- The questions serve as a guide but do not encompass the entire analysis.\n",
    "- The need, intention, and pain associated with the lack of visibility on business-main metrics need to be articulated (the \"WHAT\" question).\n",
    "- Understanding the purpose and goals behind addressing this problem is crucial (the \"WHY\" question).\n",
    "- Determining the appropriate tools and approaches to solve the problem (the \"HOW\" question).\n",
    "- Clear comprehension of the problem and purpose is essential before proceeding with further analysis steps."
   ]
  },
  {
   "cell_type": "markdown",
   "id": "1b3dd80d",
   "metadata": {},
   "source": [
    "### 1. Importing libraries and dataset."
   ]
  },
  {
   "cell_type": "code",
   "execution_count": 1,
   "id": "b1e46186",
   "metadata": {},
   "outputs": [],
   "source": [
    "import pandas as pd\n",
    "import numpy as np\n",
    "\n",
    "# Libraries for statistical plotting\n",
    "import matplotlib.pyplot as plt\n",
    "import seaborn as sns\n",
    "%matplotlib inline\n",
    "\n",
    "rides = pd.read_csv('trips_data.csv')"
   ]
  },
  {
   "cell_type": "code",
   "execution_count": 2,
   "id": "cc416087",
   "metadata": {},
   "outputs": [
    {
     "name": "stdout",
     "output_type": "stream",
     "text": [
      "<class 'pandas.core.frame.DataFrame'>\n",
      "RangeIndex: 568 entries, 0 to 567\n",
      "Data columns (total 15 columns):\n",
      " #   Column                Non-Null Count  Dtype  \n",
      "---  ------                --------------  -----  \n",
      " 0   City                  568 non-null    object \n",
      " 1   Product Type          482 non-null    object \n",
      " 2   Trip or Order Status  568 non-null    object \n",
      " 3   Request Time          568 non-null    object \n",
      " 4   Begin Trip Time       568 non-null    object \n",
      " 5   Begin Trip Lat        274 non-null    float64\n",
      " 6   Begin Trip Lng        274 non-null    float64\n",
      " 7   Begin Trip Address    274 non-null    object \n",
      " 8   Dropoff Time          568 non-null    object \n",
      " 9   Dropoff Lat           274 non-null    float64\n",
      " 10  Dropoff Lng           274 non-null    float64\n",
      " 11  Dropoff Address       274 non-null    object \n",
      " 12  Distance (miles)      568 non-null    float64\n",
      " 13  Fare Amount           568 non-null    float64\n",
      " 14  Fare Currency         568 non-null    object \n",
      "dtypes: float64(6), object(9)\n",
      "memory usage: 66.7+ KB\n"
     ]
    }
   ],
   "source": [
    "rides.info()"
   ]
  },
  {
   "cell_type": "code",
   "execution_count": 3,
   "id": "dbeab2f6",
   "metadata": {},
   "outputs": [],
   "source": [
    "rides.rename(columns={'Trip or Order Status': 'status', 'Request Time': 'request_time','Product Type':'product_type','Begin Trip Time':'begin_time',\n",
    "                      'Begin Trip Lat':'begin_lat','Begin Trip Lng':'begin_lng','Dropoff Time':'dropoff_time','Dropoff Lat':'dropoff_lat',\n",
    "                      'Dropoff Lng':'dropoff_lng','Distance (miles)':'distance_miles','Fare Amount':'fare_amount',\n",
    "                      'Fare Currency':'fare_currency','City':'city'}, inplace=True)"
   ]
  },
  {
   "cell_type": "code",
   "execution_count": 4,
   "id": "21bab2ab",
   "metadata": {},
   "outputs": [
    {
     "data": {
      "text/html": [
       "<div>\n",
       "<style scoped>\n",
       "    .dataframe tbody tr th:only-of-type {\n",
       "        vertical-align: middle;\n",
       "    }\n",
       "\n",
       "    .dataframe tbody tr th {\n",
       "        vertical-align: top;\n",
       "    }\n",
       "\n",
       "    .dataframe thead th {\n",
       "        text-align: right;\n",
       "    }\n",
       "</style>\n",
       "<table border=\"1\" class=\"dataframe\">\n",
       "  <thead>\n",
       "    <tr style=\"text-align: right;\">\n",
       "      <th></th>\n",
       "      <th>city</th>\n",
       "      <th>product_type</th>\n",
       "      <th>status</th>\n",
       "      <th>request_time</th>\n",
       "      <th>begin_time</th>\n",
       "      <th>begin_lat</th>\n",
       "      <th>begin_lng</th>\n",
       "      <th>Begin Trip Address</th>\n",
       "      <th>dropoff_time</th>\n",
       "      <th>dropoff_lat</th>\n",
       "      <th>dropoff_lng</th>\n",
       "      <th>Dropoff Address</th>\n",
       "      <th>distance_miles</th>\n",
       "      <th>fare_amount</th>\n",
       "      <th>fare_currency</th>\n",
       "    </tr>\n",
       "  </thead>\n",
       "  <tbody>\n",
       "    <tr>\n",
       "      <th>0</th>\n",
       "      <td>Pune</td>\n",
       "      <td>UberAuto</td>\n",
       "      <td>COMPLETED</td>\n",
       "      <td>2022-04-25 08:57:35 +0000 UTC</td>\n",
       "      <td>2022-04-25 09:02:35 +0000 UTC</td>\n",
       "      <td>18.541298</td>\n",
       "      <td>73.727295</td>\n",
       "      <td>Symbiosis International University Near Lupin ...</td>\n",
       "      <td>2022-04-25 09:19:05 +0000 UTC</td>\n",
       "      <td>18.552439</td>\n",
       "      <td>73.76978</td>\n",
       "      <td>Yash Orchid, Yash Orchid Private Road, Mohan N...</td>\n",
       "      <td>4.09</td>\n",
       "      <td>95.4</td>\n",
       "      <td>INR</td>\n",
       "    </tr>\n",
       "    <tr>\n",
       "      <th>1</th>\n",
       "      <td>Pune</td>\n",
       "      <td>UberAuto</td>\n",
       "      <td>CANCELED</td>\n",
       "      <td>2022-04-25 04:52:14 +0000 UTC</td>\n",
       "      <td>1970-01-01 00:00:00 +0000 UTC</td>\n",
       "      <td>NaN</td>\n",
       "      <td>NaN</td>\n",
       "      <td>NaN</td>\n",
       "      <td>1970-01-01 00:00:00 +0000 UTC</td>\n",
       "      <td>NaN</td>\n",
       "      <td>NaN</td>\n",
       "      <td>NaN</td>\n",
       "      <td>0.00</td>\n",
       "      <td>0.0</td>\n",
       "      <td>INR</td>\n",
       "    </tr>\n",
       "    <tr>\n",
       "      <th>2</th>\n",
       "      <td>Pune</td>\n",
       "      <td>NaN</td>\n",
       "      <td>UNFULFILLED</td>\n",
       "      <td>2022-04-22 12:58:17 +0000 UTC</td>\n",
       "      <td>1970-01-01 00:00:00 +0000 UTC</td>\n",
       "      <td>NaN</td>\n",
       "      <td>NaN</td>\n",
       "      <td>NaN</td>\n",
       "      <td>1970-01-01 00:00:00 +0000 UTC</td>\n",
       "      <td>NaN</td>\n",
       "      <td>NaN</td>\n",
       "      <td>NaN</td>\n",
       "      <td>0.00</td>\n",
       "      <td>0.0</td>\n",
       "      <td>INR</td>\n",
       "    </tr>\n",
       "    <tr>\n",
       "      <th>3</th>\n",
       "      <td>Pune</td>\n",
       "      <td>NaN</td>\n",
       "      <td>UNFULFILLED</td>\n",
       "      <td>2022-04-22 12:51:20 +0000 UTC</td>\n",
       "      <td>1970-01-01 00:00:00 +0000 UTC</td>\n",
       "      <td>NaN</td>\n",
       "      <td>NaN</td>\n",
       "      <td>NaN</td>\n",
       "      <td>1970-01-01 00:00:00 +0000 UTC</td>\n",
       "      <td>NaN</td>\n",
       "      <td>NaN</td>\n",
       "      <td>NaN</td>\n",
       "      <td>0.00</td>\n",
       "      <td>0.0</td>\n",
       "      <td>INR</td>\n",
       "    </tr>\n",
       "    <tr>\n",
       "      <th>4</th>\n",
       "      <td>Pune</td>\n",
       "      <td>NaN</td>\n",
       "      <td>UNFULFILLED</td>\n",
       "      <td>2022-04-22 12:46:59 +0000 UTC</td>\n",
       "      <td>1970-01-01 00:00:00 +0000 UTC</td>\n",
       "      <td>NaN</td>\n",
       "      <td>NaN</td>\n",
       "      <td>NaN</td>\n",
       "      <td>1970-01-01 00:00:00 +0000 UTC</td>\n",
       "      <td>NaN</td>\n",
       "      <td>NaN</td>\n",
       "      <td>NaN</td>\n",
       "      <td>0.00</td>\n",
       "      <td>0.0</td>\n",
       "      <td>INR</td>\n",
       "    </tr>\n",
       "  </tbody>\n",
       "</table>\n",
       "</div>"
      ],
      "text/plain": [
       "   city product_type       status                   request_time  \\\n",
       "0  Pune     UberAuto    COMPLETED  2022-04-25 08:57:35 +0000 UTC   \n",
       "1  Pune     UberAuto     CANCELED  2022-04-25 04:52:14 +0000 UTC   \n",
       "2  Pune          NaN  UNFULFILLED  2022-04-22 12:58:17 +0000 UTC   \n",
       "3  Pune          NaN  UNFULFILLED  2022-04-22 12:51:20 +0000 UTC   \n",
       "4  Pune          NaN  UNFULFILLED  2022-04-22 12:46:59 +0000 UTC   \n",
       "\n",
       "                      begin_time  begin_lat  begin_lng  \\\n",
       "0  2022-04-25 09:02:35 +0000 UTC  18.541298  73.727295   \n",
       "1  1970-01-01 00:00:00 +0000 UTC        NaN        NaN   \n",
       "2  1970-01-01 00:00:00 +0000 UTC        NaN        NaN   \n",
       "3  1970-01-01 00:00:00 +0000 UTC        NaN        NaN   \n",
       "4  1970-01-01 00:00:00 +0000 UTC        NaN        NaN   \n",
       "\n",
       "                                  Begin Trip Address  \\\n",
       "0  Symbiosis International University Near Lupin ...   \n",
       "1                                                NaN   \n",
       "2                                                NaN   \n",
       "3                                                NaN   \n",
       "4                                                NaN   \n",
       "\n",
       "                    dropoff_time  dropoff_lat  dropoff_lng  \\\n",
       "0  2022-04-25 09:19:05 +0000 UTC    18.552439     73.76978   \n",
       "1  1970-01-01 00:00:00 +0000 UTC          NaN          NaN   \n",
       "2  1970-01-01 00:00:00 +0000 UTC          NaN          NaN   \n",
       "3  1970-01-01 00:00:00 +0000 UTC          NaN          NaN   \n",
       "4  1970-01-01 00:00:00 +0000 UTC          NaN          NaN   \n",
       "\n",
       "                                     Dropoff Address  distance_miles  \\\n",
       "0  Yash Orchid, Yash Orchid Private Road, Mohan N...            4.09   \n",
       "1                                                NaN            0.00   \n",
       "2                                                NaN            0.00   \n",
       "3                                                NaN            0.00   \n",
       "4                                                NaN            0.00   \n",
       "\n",
       "   fare_amount fare_currency  \n",
       "0         95.4           INR  \n",
       "1          0.0           INR  \n",
       "2          0.0           INR  \n",
       "3          0.0           INR  \n",
       "4          0.0           INR  "
      ]
     },
     "execution_count": 4,
     "metadata": {},
     "output_type": "execute_result"
    }
   ],
   "source": [
    "rides.head()"
   ]
  },
  {
   "cell_type": "code",
   "execution_count": 5,
   "id": "1cd2afad",
   "metadata": {},
   "outputs": [
    {
     "name": "stdout",
     "output_type": "stream",
     "text": [
      "                count  mean   std  min  25%  50%   75%    max\n",
      "distance_miles  568.0   1.3   2.5  0.0  0.0  0.0   1.3   15.4\n",
      "fare_amount     568.0  33.0  62.5  0.0  0.0  0.0  35.7  376.3\n"
     ]
    },
    {
     "data": {
      "image/png": "[encoded data removed]",
      "text/plain": [
       "<Figure size 640x480 with 1 Axes>"
      ]
     },
     "metadata": {},
     "output_type": "display_data"
    }
   ],
   "source": [
    "#creating an additional dataframe without Uber EATS records (out of analysis scope)\n",
    "df1 = rides[rides.product_type!='UberEATS Marketplace'][['distance_miles','fare_amount']]\n",
    "\n",
    "print(df1.describe().transpose().round(1));\n",
    "df1.boxplot(grid=False);"
   ]
  },
  {
   "cell_type": "code",
   "execution_count": 6,
   "id": "2f32a100",
   "metadata": {},
   "outputs": [
    {
     "data": {
      "image/png": "[encoded data removed]",
      "text/plain": [
       "<Figure size 640x480 with 1 Axes>"
      ]
     },
     "metadata": {},
     "output_type": "display_data"
    }
   ],
   "source": [
    "sns.scatterplot(x='distance_miles',y='fare_amount',data=df1);"
   ]
  },
  {
   "cell_type": "markdown",
   "id": "5d7e6cf7",
   "metadata": {},
   "source": [
    "### 2.Data Preparation"
   ]
  },
  {
   "cell_type": "code",
   "execution_count": 7,
   "id": "f3428deb",
   "metadata": {},
   "outputs": [],
   "source": [
    "rides.pop('fare_currency');"
   ]
  },
  {
   "cell_type": "code",
   "execution_count": 8,
   "id": "1f010f95",
   "metadata": {},
   "outputs": [
    {
     "data": {
      "text/plain": [
       "begin_lat             294\n",
       "begin_lng             294\n",
       "Begin Trip Address    294\n",
       "dropoff_lat           294\n",
       "dropoff_lng           294\n",
       "Dropoff Address       294\n",
       "product_type           86\n",
       "city                    0\n",
       "status                  0\n",
       "request_time            0\n",
       "begin_time              0\n",
       "dropoff_time            0\n",
       "distance_miles          0\n",
       "fare_amount             0\n",
       "dtype: int64"
      ]
     },
     "execution_count": 8,
     "metadata": {},
     "output_type": "execute_result"
    }
   ],
   "source": [
    "rides.isnull().sum().sort_values(ascending=False)"
   ]
  },
  {
   "cell_type": "code",
   "execution_count": 9,
   "id": "ee2dea4e",
   "metadata": {},
   "outputs": [
    {
     "data": {
      "text/html": [
       "<div>\n",
       "<style scoped>\n",
       "    .dataframe tbody tr th:only-of-type {\n",
       "        vertical-align: middle;\n",
       "    }\n",
       "\n",
       "    .dataframe tbody tr th {\n",
       "        vertical-align: top;\n",
       "    }\n",
       "\n",
       "    .dataframe thead th {\n",
       "        text-align: right;\n",
       "    }\n",
       "</style>\n",
       "<table border=\"1\" class=\"dataframe\">\n",
       "  <thead>\n",
       "    <tr style=\"text-align: right;\">\n",
       "      <th></th>\n",
       "      <th>city</th>\n",
       "      <th>product_type</th>\n",
       "      <th>status</th>\n",
       "      <th>request_time</th>\n",
       "      <th>begin_time</th>\n",
       "      <th>begin_lat</th>\n",
       "      <th>begin_lng</th>\n",
       "      <th>Begin Trip Address</th>\n",
       "      <th>dropoff_time</th>\n",
       "      <th>dropoff_lat</th>\n",
       "      <th>dropoff_lng</th>\n",
       "      <th>Dropoff Address</th>\n",
       "      <th>distance_miles</th>\n",
       "      <th>fare_amount</th>\n",
       "    </tr>\n",
       "  </thead>\n",
       "  <tbody>\n",
       "    <tr>\n",
       "      <th>2</th>\n",
       "      <td>Pune</td>\n",
       "      <td>NaN</td>\n",
       "      <td>UNFULFILLED</td>\n",
       "      <td>2022-04-22 12:58:17 +0000 UTC</td>\n",
       "      <td>1970-01-01 00:00:00 +0000 UTC</td>\n",
       "      <td>NaN</td>\n",
       "      <td>NaN</td>\n",
       "      <td>NaN</td>\n",
       "      <td>1970-01-01 00:00:00 +0000 UTC</td>\n",
       "      <td>NaN</td>\n",
       "      <td>NaN</td>\n",
       "      <td>NaN</td>\n",
       "      <td>0.0</td>\n",
       "      <td>0.0</td>\n",
       "    </tr>\n",
       "    <tr>\n",
       "      <th>3</th>\n",
       "      <td>Pune</td>\n",
       "      <td>NaN</td>\n",
       "      <td>UNFULFILLED</td>\n",
       "      <td>2022-04-22 12:51:20 +0000 UTC</td>\n",
       "      <td>1970-01-01 00:00:00 +0000 UTC</td>\n",
       "      <td>NaN</td>\n",
       "      <td>NaN</td>\n",
       "      <td>NaN</td>\n",
       "      <td>1970-01-01 00:00:00 +0000 UTC</td>\n",
       "      <td>NaN</td>\n",
       "      <td>NaN</td>\n",
       "      <td>NaN</td>\n",
       "      <td>0.0</td>\n",
       "      <td>0.0</td>\n",
       "    </tr>\n",
       "    <tr>\n",
       "      <th>4</th>\n",
       "      <td>Pune</td>\n",
       "      <td>NaN</td>\n",
       "      <td>UNFULFILLED</td>\n",
       "      <td>2022-04-22 12:46:59 +0000 UTC</td>\n",
       "      <td>1970-01-01 00:00:00 +0000 UTC</td>\n",
       "      <td>NaN</td>\n",
       "      <td>NaN</td>\n",
       "      <td>NaN</td>\n",
       "      <td>1970-01-01 00:00:00 +0000 UTC</td>\n",
       "      <td>NaN</td>\n",
       "      <td>NaN</td>\n",
       "      <td>NaN</td>\n",
       "      <td>0.0</td>\n",
       "      <td>0.0</td>\n",
       "    </tr>\n",
       "    <tr>\n",
       "      <th>5</th>\n",
       "      <td>Pune</td>\n",
       "      <td>NaN</td>\n",
       "      <td>UNFULFILLED</td>\n",
       "      <td>2022-04-22 09:23:26 +0000 UTC</td>\n",
       "      <td>1970-01-01 00:00:00 +0000 UTC</td>\n",
       "      <td>NaN</td>\n",
       "      <td>NaN</td>\n",
       "      <td>NaN</td>\n",
       "      <td>1970-01-01 00:00:00 +0000 UTC</td>\n",
       "      <td>NaN</td>\n",
       "      <td>NaN</td>\n",
       "      <td>NaN</td>\n",
       "      <td>0.0</td>\n",
       "      <td>0.0</td>\n",
       "    </tr>\n",
       "    <tr>\n",
       "      <th>7</th>\n",
       "      <td>Pune</td>\n",
       "      <td>NaN</td>\n",
       "      <td>UNFULFILLED</td>\n",
       "      <td>2022-04-22 08:08:53 +0000 UTC</td>\n",
       "      <td>1970-01-01 00:00:00 +0000 UTC</td>\n",
       "      <td>NaN</td>\n",
       "      <td>NaN</td>\n",
       "      <td>NaN</td>\n",
       "      <td>1970-01-01 00:00:00 +0000 UTC</td>\n",
       "      <td>NaN</td>\n",
       "      <td>NaN</td>\n",
       "      <td>NaN</td>\n",
       "      <td>0.0</td>\n",
       "      <td>0.0</td>\n",
       "    </tr>\n",
       "    <tr>\n",
       "      <th>...</th>\n",
       "      <td>...</td>\n",
       "      <td>...</td>\n",
       "      <td>...</td>\n",
       "      <td>...</td>\n",
       "      <td>...</td>\n",
       "      <td>...</td>\n",
       "      <td>...</td>\n",
       "      <td>...</td>\n",
       "      <td>...</td>\n",
       "      <td>...</td>\n",
       "      <td>...</td>\n",
       "      <td>...</td>\n",
       "      <td>...</td>\n",
       "      <td>...</td>\n",
       "    </tr>\n",
       "    <tr>\n",
       "      <th>538</th>\n",
       "      <td>Pune</td>\n",
       "      <td>NaN</td>\n",
       "      <td>UNFULFILLED</td>\n",
       "      <td>2019-07-20 08:23:55 +0000 UTC</td>\n",
       "      <td>1970-01-01 00:00:00 +0000 UTC</td>\n",
       "      <td>NaN</td>\n",
       "      <td>NaN</td>\n",
       "      <td>NaN</td>\n",
       "      <td>1970-01-01 00:00:00 +0000 UTC</td>\n",
       "      <td>NaN</td>\n",
       "      <td>NaN</td>\n",
       "      <td>NaN</td>\n",
       "      <td>0.0</td>\n",
       "      <td>0.0</td>\n",
       "    </tr>\n",
       "    <tr>\n",
       "      <th>549</th>\n",
       "      <td>Pune</td>\n",
       "      <td>NaN</td>\n",
       "      <td>UNFULFILLED</td>\n",
       "      <td>2019-07-15 10:27:05 +0000 UTC</td>\n",
       "      <td>1970-01-01 00:00:00 +0000 UTC</td>\n",
       "      <td>NaN</td>\n",
       "      <td>NaN</td>\n",
       "      <td>NaN</td>\n",
       "      <td>1970-01-01 00:00:00 +0000 UTC</td>\n",
       "      <td>NaN</td>\n",
       "      <td>NaN</td>\n",
       "      <td>NaN</td>\n",
       "      <td>0.0</td>\n",
       "      <td>0.0</td>\n",
       "    </tr>\n",
       "    <tr>\n",
       "      <th>550</th>\n",
       "      <td>Pune</td>\n",
       "      <td>NaN</td>\n",
       "      <td>UNFULFILLED</td>\n",
       "      <td>2019-07-12 08:57:17 +0000 UTC</td>\n",
       "      <td>1970-01-01 00:00:00 +0000 UTC</td>\n",
       "      <td>NaN</td>\n",
       "      <td>NaN</td>\n",
       "      <td>NaN</td>\n",
       "      <td>1970-01-01 00:00:00 +0000 UTC</td>\n",
       "      <td>NaN</td>\n",
       "      <td>NaN</td>\n",
       "      <td>NaN</td>\n",
       "      <td>0.0</td>\n",
       "      <td>0.0</td>\n",
       "    </tr>\n",
       "    <tr>\n",
       "      <th>554</th>\n",
       "      <td>Pune</td>\n",
       "      <td>NaN</td>\n",
       "      <td>UNFULFILLED</td>\n",
       "      <td>2019-07-07 05:13:29 +0000 UTC</td>\n",
       "      <td>1970-01-01 00:00:00 +0000 UTC</td>\n",
       "      <td>NaN</td>\n",
       "      <td>NaN</td>\n",
       "      <td>NaN</td>\n",
       "      <td>1970-01-01 00:00:00 +0000 UTC</td>\n",
       "      <td>NaN</td>\n",
       "      <td>NaN</td>\n",
       "      <td>NaN</td>\n",
       "      <td>0.0</td>\n",
       "      <td>0.0</td>\n",
       "    </tr>\n",
       "    <tr>\n",
       "      <th>558</th>\n",
       "      <td>Pune</td>\n",
       "      <td>NaN</td>\n",
       "      <td>UNFULFILLED</td>\n",
       "      <td>2019-07-02 15:47:11 +0000 UTC</td>\n",
       "      <td>1970-01-01 00:00:00 +0000 UTC</td>\n",
       "      <td>NaN</td>\n",
       "      <td>NaN</td>\n",
       "      <td>NaN</td>\n",
       "      <td>1970-01-01 00:00:00 +0000 UTC</td>\n",
       "      <td>NaN</td>\n",
       "      <td>NaN</td>\n",
       "      <td>NaN</td>\n",
       "      <td>0.0</td>\n",
       "      <td>0.0</td>\n",
       "    </tr>\n",
       "  </tbody>\n",
       "</table>\n",
       "<p>86 rows × 14 columns</p>\n",
       "</div>"
      ],
      "text/plain": [
       "     city product_type       status                   request_time  \\\n",
       "2    Pune          NaN  UNFULFILLED  2022-04-22 12:58:17 +0000 UTC   \n",
       "3    Pune          NaN  UNFULFILLED  2022-04-22 12:51:20 +0000 UTC   \n",
       "4    Pune          NaN  UNFULFILLED  2022-04-22 12:46:59 +0000 UTC   \n",
       "5    Pune          NaN  UNFULFILLED  2022-04-22 09:23:26 +0000 UTC   \n",
       "7    Pune          NaN  UNFULFILLED  2022-04-22 08:08:53 +0000 UTC   \n",
       "..    ...          ...          ...                            ...   \n",
       "538  Pune          NaN  UNFULFILLED  2019-07-20 08:23:55 +0000 UTC   \n",
       "549  Pune          NaN  UNFULFILLED  2019-07-15 10:27:05 +0000 UTC   \n",
       "550  Pune          NaN  UNFULFILLED  2019-07-12 08:57:17 +0000 UTC   \n",
       "554  Pune          NaN  UNFULFILLED  2019-07-07 05:13:29 +0000 UTC   \n",
       "558  Pune          NaN  UNFULFILLED  2019-07-02 15:47:11 +0000 UTC   \n",
       "\n",
       "                        begin_time  begin_lat  begin_lng Begin Trip Address  \\\n",
       "2    1970-01-01 00:00:00 +0000 UTC        NaN        NaN                NaN   \n",
       "3    1970-01-01 00:00:00 +0000 UTC        NaN        NaN                NaN   \n",
       "4    1970-01-01 00:00:00 +0000 UTC        NaN        NaN                NaN   \n",
       "5    1970-01-01 00:00:00 +0000 UTC        NaN        NaN                NaN   \n",
       "7    1970-01-01 00:00:00 +0000 UTC        NaN        NaN                NaN   \n",
       "..                             ...        ...        ...                ...   \n",
       "538  1970-01-01 00:00:00 +0000 UTC        NaN        NaN                NaN   \n",
       "549  1970-01-01 00:00:00 +0000 UTC        NaN        NaN                NaN   \n",
       "550  1970-01-01 00:00:00 +0000 UTC        NaN        NaN                NaN   \n",
       "554  1970-01-01 00:00:00 +0000 UTC        NaN        NaN                NaN   \n",
       "558  1970-01-01 00:00:00 +0000 UTC        NaN        NaN                NaN   \n",
       "\n",
       "                      dropoff_time  dropoff_lat  dropoff_lng Dropoff Address  \\\n",
       "2    1970-01-01 00:00:00 +0000 UTC          NaN          NaN             NaN   \n",
       "3    1970-01-01 00:00:00 +0000 UTC          NaN          NaN             NaN   \n",
       "4    1970-01-01 00:00:00 +0000 UTC          NaN          NaN             NaN   \n",
       "5    1970-01-01 00:00:00 +0000 UTC          NaN          NaN             NaN   \n",
       "7    1970-01-01 00:00:00 +0000 UTC          NaN          NaN             NaN   \n",
       "..                             ...          ...          ...             ...   \n",
       "538  1970-01-01 00:00:00 +0000 UTC          NaN          NaN             NaN   \n",
       "549  1970-01-01 00:00:00 +0000 UTC          NaN          NaN             NaN   \n",
       "550  1970-01-01 00:00:00 +0000 UTC          NaN          NaN             NaN   \n",
       "554  1970-01-01 00:00:00 +0000 UTC          NaN          NaN             NaN   \n",
       "558  1970-01-01 00:00:00 +0000 UTC          NaN          NaN             NaN   \n",
       "\n",
       "     distance_miles  fare_amount  \n",
       "2               0.0          0.0  \n",
       "3               0.0          0.0  \n",
       "4               0.0          0.0  \n",
       "5               0.0          0.0  \n",
       "7               0.0          0.0  \n",
       "..              ...          ...  \n",
       "538             0.0          0.0  \n",
       "549             0.0          0.0  \n",
       "550             0.0          0.0  \n",
       "554             0.0          0.0  \n",
       "558             0.0          0.0  \n",
       "\n",
       "[86 rows x 14 columns]"
      ]
     },
     "execution_count": 9,
     "metadata": {},
     "output_type": "execute_result"
    }
   ],
   "source": [
    "rides[rides.product_type.isnull()]"
   ]
  },
  {
   "cell_type": "code",
   "execution_count": 10,
   "id": "6cba14de",
   "metadata": {},
   "outputs": [],
   "source": [
    "rides.dropna(subset = ['product_type'], inplace=True)"
   ]
  },
  {
   "cell_type": "markdown",
   "id": "3a63c6de",
   "metadata": {},
   "source": [
    "#### 2.1 Data Cleansing: Categorical features"
   ]
  },
  {
   "cell_type": "code",
   "execution_count": 11,
   "id": "a8db0570",
   "metadata": {},
   "outputs": [
    {
     "name": "stdout",
     "output_type": "stream",
     "text": [
      "UberAuto          405\n",
      "UberGo             69\n",
      "UberGo Rentals      5\n",
      "Go Sedan            2\n",
      "Premier             1\n",
      "Name: product_type, dtype: int64\n",
      "UberAuto          405\n",
      "UberGo             69\n",
      "UberGo Rentals      5\n",
      "Go Sedan            2\n",
      "Premier             1\n",
      "Name: product_type, dtype: int64\n"
     ]
    }
   ],
   "source": [
    "# Checking categories in product_type column\n",
    "print(rides.product_type.value_counts())\n",
    "\n",
    "# Categories reclassification\n",
    "product_mapping = {'UberX':'UberX','uberX':'UberX','uberX VIP':'UberX','VIP':'UberX','POOL':'Pool','POOL: MATCHED':'Pool','UberBLACK': 'Black',\n",
    "                   'uberx':'UberX','uberPOOL':'Pool','uberPOOL: MATCHED':'Pool','Pool: MATCHED':'Pool'}\n",
    "\n",
    "# New categories replacement\n",
    "rides['product_type'].replace(product_mapping, inplace=True)\n",
    "\n",
    "# Checking new categories in product_type column\n",
    "print(rides.product_type.value_counts())"
   ]
  },
  {
   "cell_type": "code",
   "execution_count": 12,
   "id": "ae12cc60",
   "metadata": {},
   "outputs": [],
   "source": [
    "rides = rides[rides.product_type!='UberEATS Marketplace']"
   ]
  },
  {
   "cell_type": "code",
   "execution_count": 13,
   "id": "bb1ab3a1",
   "metadata": {},
   "outputs": [
    {
     "data": {
      "text/plain": [
       "CANCELED           262\n",
       "COMPLETED          203\n",
       "DRIVER_CANCELED     17\n",
       "Name: status, dtype: int64"
      ]
     },
     "execution_count": 13,
     "metadata": {},
     "output_type": "execute_result"
    }
   ],
   "source": [
    "rides.status.value_counts()"
   ]
  },
  {
   "cell_type": "markdown",
   "id": "26efbb7b",
   "metadata": {},
   "source": [
    "#### 2.2 Data Transformation: Handling dates"
   ]
  },
  {
   "cell_type": "code",
   "execution_count": 14,
   "id": "20b2cd4a",
   "metadata": {},
   "outputs": [],
   "source": [
    "# Library for manipulating dates and times\n",
    "from datetime import datetime\n",
    "from datetime import timedelta\n",
    "\n",
    "# Function to convert features to datetime\n",
    "def date_convertion(df, cols):\n",
    "\n",
    "  for col in cols:\n",
    "    df[col] = df[col].apply(lambda x: x.replace(' +0000 UTC', ''))\n",
    "    df[col] = pd.to_datetime(df[col])\n",
    "    \n",
    "  return df\n",
    "\n",
    "# Applying date_convertion function to date features \n",
    "rides = date_convertion(rides, ['request_time', 'begin_time', 'dropoff_time'])"
   ]
  },
  {
   "cell_type": "code",
   "execution_count": 15,
   "id": "11e431a5",
   "metadata": {},
   "outputs": [],
   "source": [
    "rides['year'] = rides.request_time.map(lambda x: datetime.strftime(x,\"%Y\"))\n",
    "rides['month'] = rides.request_time.map(lambda x: datetime.strftime(x,\"%b\"))\n",
    "rides['weekday'] = rides.request_time.map(lambda x: datetime.strftime(x,\"%a\"))\n",
    "rides['time'] = rides.request_time.map(lambda x: datetime.strftime(x,\"%H:%M\"))"
   ]
  },
  {
   "cell_type": "markdown",
   "id": "d50db119",
   "metadata": {},
   "source": [
    "#### 2.3 Feature Engineering: Creating new features"
   ]
  },
  {
   "cell_type": "code",
   "execution_count": 16,
   "id": "ca3aa6fc",
   "metadata": {},
   "outputs": [],
   "source": [
    "rides['distance_km'] = round(rides.distance_miles*1.60934,2)\n",
    "rides['amount_km'] = round(rides.fare_amount/rides.distance_km,2)"
   ]
  },
  {
   "cell_type": "code",
   "execution_count": 17,
   "id": "29b1cfce",
   "metadata": {},
   "outputs": [],
   "source": [
    "rides['request_lead_time'] = rides.begin_time - rides.request_time\n",
    "rides['request_lead_time'] = rides['request_lead_time'].apply(lambda x: round(x.total_seconds()/60,1))"
   ]
  },
  {
   "cell_type": "code",
   "execution_count": 18,
   "id": "77fef001",
   "metadata": {},
   "outputs": [],
   "source": [
    "rides['trip_duration'] = rides.dropoff_time - rides.begin_time\n",
    "rides['trip_duration'] = rides['trip_duration'].apply(lambda x: round(x.total_seconds()/60,1))"
   ]
  },
  {
   "cell_type": "code",
   "execution_count": 19,
   "id": "f0653f7b",
   "metadata": {},
   "outputs": [],
   "source": [
    "rides.loc[(rides.status == 'CANCELED') | (rides.status == 'DRIVER_CANCELED'),'request_lead_time']=np.nan\n",
    "rides.loc[(rides.status == 'CANCELED') | (rides.status == 'DRIVER_CANCELED'),'amount_km']=np.nan\n",
    "rides.loc[(rides.status == 'CANCELED') | (rides.status == 'DRIVER_CANCELED'),['begin_time','dropoff_time']]= np.nan"
   ]
  },
  {
   "cell_type": "markdown",
   "id": "ae948965",
   "metadata": {},
   "source": [
    "### 3. Data Analysis & Storytelling: It’s show time!"
   ]
  },
  {
   "cell_type": "code",
   "execution_count": 20,
   "id": "9bf120b8",
   "metadata": {},
   "outputs": [],
   "source": [
    "completed_rides = rides[(rides.status!='CANCELED')&(rides.status!='DRIVER_CANCELED')] "
   ]
  },
  {
   "cell_type": "markdown",
   "id": "f9574ef5",
   "metadata": {},
   "source": [
    "#### a. How many trips have I done over the years?"
   ]
  },
  {
   "cell_type": "code",
   "execution_count": 21,
   "id": "07e91073",
   "metadata": {},
   "outputs": [
    {
     "name": "stdout",
     "output_type": "stream",
     "text": [
      "Total trips:  203\n",
      "2019    49\n",
      "2020    35\n",
      "2021    72\n",
      "2022    47\n",
      "Name: year, dtype: int64\n"
     ]
    },
    {
     "data": {
      "image/png": "[encoded data removed]",
      "text/plain": [
       "<Figure size 640x480 with 1 Axes>"
      ]
     },
     "metadata": {},
     "output_type": "display_data"
    }
   ],
   "source": [
    "print('Total trips: ', completed_rides.status.count())\n",
    "print(completed_rides.year.value_counts().sort_index(ascending=True))\n",
    "sns.countplot(data=completed_rides, x='year',order=['2016','2017','2018','2019','2020','2021'], palette='pastel');"
   ]
  },
  {
   "cell_type": "markdown",
   "id": "d2284106",
   "metadata": {},
   "source": [
    "#### b. How many trips were completed or canceled?"
   ]
  },
  {
   "cell_type": "code",
   "execution_count": 23,
   "id": "5fc84442",
   "metadata": {},
   "outputs": [
    {
     "name": "stdout",
     "output_type": "stream",
     "text": [
      "Total trips:  482\n",
      "CANCELED           54.4\n",
      "COMPLETED          42.1\n",
      "DRIVER_CANCELED     3.5\n",
      "Name: status, dtype: float64\n"
     ]
    },
    {
     "data": {
      "image/png": "[encoded data removed]",
      "text/plain": [
       "<Figure size 640x480 with 1 Axes>"
      ]
     },
     "metadata": {},
     "output_type": "display_data"
    }
   ],
   "source": [
    "print('Total trips: ', rides.status.count())\n",
    "print(round(rides.status.value_counts()/rides.status.size*100,1))\n",
    "\n",
    "#sns.countplot(data=rides, x='year', order=['2015','2016','2017','2018','2019','2020','2021'], hue='status', palette='pastel');\n",
    "rides.groupby(by=['year'])['status'].value_counts(normalize=True).unstack('status').plot.bar(stacked=True);"
   ]
  },
  {
   "cell_type": "markdown",
   "id": "07eddd40",
   "metadata": {},
   "source": [
    "#### c. Where did most of the dropoffs occur?"
   ]
  },
  {
   "cell_type": "code",
   "execution_count": 24,
   "id": "7d1b5716",
   "metadata": {},
   "outputs": [
    {
     "data": {
      "text/html": [
       "<div style=\"width:100%;\"><div style=\"position:relative;width:100%;height:0;padding-bottom:60%;\"><span style=\"color:#565656\">Make this Notebook Trusted to load map: File -> Trust Notebook</span><iframe srcdoc=\"&lt;!DOCTYPE html&gt;\n",
       "&lt;html&gt;\n",
       "&lt;head&gt;\n",
       "    \n",
       "    &lt;meta http-equiv=&quot;content-type&quot; content=&quot;text/html; charset=UTF-8&quot; /&gt;\n",
       "    \n",
       "        &lt;script&gt;\n",
       "            L_NO_TOUCH = false;\n",
       "            L_DISABLE_3D = false;\n",
       "        &lt;/script&gt;\n",
       "    \n",
       "    &lt;style&gt;html, body {width: 100%;height: 100%;margin: 0;padding: 0;}&lt;/style&gt;\n",
       "    &lt;style&gt;#map {position:absolute;top:0;bottom:0;right:0;left:0;}&lt;/style&gt;\n",
       "    &lt;script src=&quot;https://cdn.jsdelivr.net/npm/leaflet@1.9.3/dist/leaflet.js&quot;&gt;&lt;/script&gt;\n",
       "    &lt;script src=&quot;https://code.jquery.com/jquery-1.12.4.min.js&quot;&gt;&lt;/script&gt;\n",
       "    &lt;script src=&quot;https://cdn.jsdelivr.net/npm/bootstrap@5.2.2/dist/js/bootstrap.bundle.min.js&quot;&gt;&lt;/script&gt;\n",
       "    &lt;script src=&quot;https://cdnjs.cloudflare.com/ajax/libs/Leaflet.awesome-markers/2.0.2/leaflet.awesome-markers.js&quot;&gt;&lt;/script&gt;\n",
       "    &lt;link rel=&quot;stylesheet&quot; href=&quot;https://cdn.jsdelivr.net/npm/leaflet@1.9.3/dist/leaflet.css&quot;/&gt;\n",
       "    &lt;link rel=&quot;stylesheet&quot; href=&quot;https://cdn.jsdelivr.net/npm/bootstrap@5.2.2/dist/css/bootstrap.min.css&quot;/&gt;\n",
       "    &lt;link rel=&quot;stylesheet&quot; href=&quot;https://netdna.bootstrapcdn.com/bootstrap/3.0.0/css/bootstrap.min.css&quot;/&gt;\n",
       "    &lt;link rel=&quot;stylesheet&quot; href=&quot;https://cdn.jsdelivr.net/npm/@fortawesome/fontawesome-free@6.2.0/css/all.min.css&quot;/&gt;\n",
       "    &lt;link rel=&quot;stylesheet&quot; href=&quot;https://cdnjs.cloudflare.com/ajax/libs/Leaflet.awesome-markers/2.0.2/leaflet.awesome-markers.css&quot;/&gt;\n",
       "    &lt;link rel=&quot;stylesheet&quot; href=&quot;https://cdn.jsdelivr.net/gh/python-visualization/folium/folium/templates/leaflet.awesome.rotate.min.css&quot;/&gt;\n",
       "    \n",
       "            &lt;meta name=&quot;viewport&quot; content=&quot;width=device-width,\n",
       "                initial-scale=1.0, maximum-scale=1.0, user-scalable=no&quot; /&gt;\n",
       "            &lt;style&gt;\n",
       "                #map_005d5303dc43d8a47da4692163562d38 {\n",
       "                    position: relative;\n",
       "                    width: 80.0%;\n",
       "                    height: 50.0%;\n",
       "                    left: 0.0%;\n",
       "                    top: 0.0%;\n",
       "                }\n",
       "                .leaflet-container { font-size: 1rem; }\n",
       "            &lt;/style&gt;\n",
       "        \n",
       "    &lt;script src=&quot;https://cdn.jsdelivr.net/gh/python-visualization/folium@main/folium/templates/leaflet_heat.min.js&quot;&gt;&lt;/script&gt;\n",
       "&lt;/head&gt;\n",
       "&lt;body&gt;\n",
       "    \n",
       "    \n",
       "            &lt;div class=&quot;folium-map&quot; id=&quot;map_005d5303dc43d8a47da4692163562d38&quot; &gt;&lt;/div&gt;\n",
       "        \n",
       "&lt;/body&gt;\n",
       "&lt;script&gt;\n",
       "    \n",
       "    \n",
       "            var map_005d5303dc43d8a47da4692163562d38 = L.map(\n",
       "                &quot;map_005d5303dc43d8a47da4692163562d38&quot;,\n",
       "                {\n",
       "                    center: [-23.5489, -46.6388],\n",
       "                    crs: L.CRS.EPSG3857,\n",
       "                    zoom: 7,\n",
       "                    zoomControl: true,\n",
       "                    preferCanvas: false,\n",
       "                }\n",
       "            );\n",
       "            L.control.scale().addTo(map_005d5303dc43d8a47da4692163562d38);\n",
       "\n",
       "            \n",
       "\n",
       "        \n",
       "    \n",
       "            var tile_layer_34c7e217ccb72efc4bb2e1f79346be1a = L.tileLayer(\n",
       "                &quot;https://stamen-tiles-{s}.a.ssl.fastly.net/terrain/{z}/{x}/{y}.jpg&quot;,\n",
       "                {&quot;attribution&quot;: &quot;Map tiles by \\u003ca target=\\&quot;_blank\\&quot; href=\\&quot;http://stamen.com\\&quot;\\u003eStamen Design\\u003c/a\\u003e, under \\u003ca target=\\&quot;_blank\\&quot; href=\\&quot;http://creativecommons.org/licenses/by/3.0\\&quot;\\u003eCC BY 3.0\\u003c/a\\u003e. Data by \\u0026copy; \\u003ca target=\\&quot;_blank\\&quot; href=\\&quot;http://openstreetmap.org\\&quot;\\u003eOpenStreetMap\\u003c/a\\u003e, under \\u003ca target=\\&quot;_blank\\&quot; href=\\&quot;http://creativecommons.org/licenses/by-sa/3.0\\&quot;\\u003eCC BY SA\\u003c/a\\u003e.&quot;, &quot;detectRetina&quot;: false, &quot;maxNativeZoom&quot;: 18, &quot;maxZoom&quot;: 18, &quot;minZoom&quot;: 0, &quot;noWrap&quot;: false, &quot;opacity&quot;: 1, &quot;subdomains&quot;: &quot;abc&quot;, &quot;tms&quot;: false}\n",
       "            ).addTo(map_005d5303dc43d8a47da4692163562d38);\n",
       "        \n",
       "    \n",
       "            var heat_map_90facfaacf71dab5bce70c8c91960f38 = L.heatLayer(\n",
       "                [[18.552439, 73.76978], [18.544668, 73.78042], [18.552439, 73.76976], [18.516184, 73.85637], [18.552412, 73.7698], [18.539167, 73.82997], [18.541317, 73.72748], [18.558882, 73.7917], [18.564013, 73.77614], [18.552494, 73.769844], [18.544067, 73.78226], [18.544863, 73.78601], [18.55247, 73.76983], [18.552471, 73.7699], [18.568819, 73.76652], [18.541553, 73.72761], [18.552532, 73.769775], [18.55245, 73.76984], [18.55258, 73.76961], [18.648384, 73.78066], [18.56077, 73.81258], [18.541248, 73.727356], [18.573479, 73.78087], [18.552494, 73.76976], [18.560293, 73.809074], [18.57125, 73.77492], [18.552456, 73.769875], [18.564678, 73.81276], [18.56461, 73.81247], [18.552498, 73.76976], [18.541414, 73.72755], [18.552544, 73.76981], [18.55249, 73.76981], [18.541365, 73.72746], [18.565369, 73.77272], [18.564762, 73.78241], [18.573353, 73.77467], [18.542297, 73.72827], [18.567846, 73.77084], [18.567867, 73.77167], [18.567823, 73.77088], [18.561672, 73.78551], [21.092808, 79.06561], [21.106009, 79.09245], [21.105713, 79.09231], [21.125948, 79.11632], [21.092802, 79.06559], [18.567879, 73.770805], [18.57166, 73.781], [18.57377, 73.776405], [18.575315, 73.754654], [18.569809, 73.78127], [18.573244, 73.78087], [18.56457, 73.812805], [18.567823, 73.77089], [18.56482, 73.78248], [18.56782, 73.77086], [21.114304, 79.05661], [21.105272, 79.05362], [21.114159, 79.05676], [21.106041, 79.09243], [18.568106, 73.77053], [18.648415, 73.78061], [18.567955, 73.77057], [18.57347, 73.78088], [18.568422, 73.7707], [18.577282, 73.77471], [18.568361, 73.77075], [18.648367, 73.78055], [18.56818, 73.77071], [18.573513, 73.78083], [18.648464, 73.7806], [18.567898, 73.77078], [18.567846, 73.770836], [18.573462, 73.78065], [18.565283, 73.78247], [18.568054, 73.77091], [18.573792, 73.775604], [18.570644, 73.77464], [18.56726, 73.77062], [18.573448, 73.78086], [18.567928, 73.77081], [18.573719, 73.77483], [18.567888, 73.770874], [18.57514, 73.75426], [18.567837, 73.770905], [18.64841, 73.780754], [18.567919, 73.77091], [18.575115, 73.75453], [18.513845, 73.87806], [18.620663, 73.848274], [18.554808, 73.79775], [18.56792, 73.770996], [18.557846, 73.793236], [18.57111, 73.76543], [18.564095, 73.77691], [18.56788, 73.77079], [18.551764, 73.795235], [18.567884, 73.77088], [18.562178, 73.78417], [18.569103, 73.75855], [18.562796, 73.764725], [18.567942, 73.77068], [18.573826, 73.777115], [18.567923, 73.77084], [18.567947, 73.77079], [18.567858, 73.77086], [18.568018, 73.77084], [18.57664, 73.77354], [18.568415, 73.770836], [18.568285, 73.77085], [18.568304, 73.77077], [18.567877, 73.770836], [18.576777, 73.77355], [18.566832, 73.76947], [18.576635, 73.77348], [18.567862, 73.77124], [18.576742, 73.77352], [18.571804, 73.76988], [18.566833, 73.76949], [18.507874, 73.79717], [18.576542, 73.77359], [18.576641, 73.77355], [18.576645, 73.77353], [18.576605, 73.77352], [18.573462, 73.7808], [18.56681, 73.76954], [18.567993, 73.78232], [18.576666, 73.773506], [18.5668883, 73.7694917], [18.5457783, 73.7833567], [18.5761319, 73.7735276], [18.5442931, 73.7819847], [18.6613243, 73.8093293], [18.5642904, 73.7757581], [18.5669767, 73.78256], [18.571858, 73.7698106], [18.648455, 73.780525], [18.6483667, 73.780715], [18.5412827, 73.7274234], [18.5230637, 73.8171461], [18.5716749, 73.7691801], [18.5773451, 73.7648292], [18.5582884, 73.7727682], [18.5766157, 73.7735869], [18.5137098, 73.8361528], [18.5734759, 73.7808162], [18.5765453, 73.7735658], [18.5813953, 73.7829143], [18.5763086, 73.7732011], [18.5649033, 73.7825602], [18.5647242, 73.7825983], [18.5789683, 73.9081367], [18.5738155, 73.7762642], [18.5617598, 73.7918048], [18.5765083, 73.773425], [18.565141, 73.7826088], [18.5664261, 73.7704658], [18.57664, 73.7735717], [18.5766111, 73.7735471], [18.6483906, 73.7806732], [18.5766576, 73.7735684], [18.5590112, 73.7911512], [18.5297805, 73.8436269], [18.5767131, 73.7735609], [18.5667967, 73.7695333], [18.573026, 73.7808917], [18.5765788, 73.7735333], [18.5450304, 73.7860256], [18.576516, 73.7735209], [18.5711519, 73.7810451], [18.5412299, 73.727254], [18.5765891, 73.7648723], [18.559984, 73.7887812], [18.5766097, 73.7735724], [18.5643233, 73.7759983], [18.56432, 73.77603], [18.534295, 73.8612433], [18.5412905, 73.7274105], [18.5414005, 73.727507], [18.557622, 73.7934227], [18.5638465, 73.7828208], [18.5576577, 73.7951169], [18.557111, 73.793965], [18.5569826, 73.7942511], [18.5411911, 73.7274166], [18.5570808, 73.7942531], [18.5412868, 73.7274177], [18.5568416, 73.7942028], [18.5343892, 73.861257], [18.5734937, 73.7807631], [18.5570471, 73.7941053], [18.6496329, 73.7814493], [18.5576073, 73.7951695], [18.557749, 73.7952146], [18.5646755, 73.7824444], [18.5576317, 73.7950797], [18.5734799, 73.7808514], [18.566242, 73.7705703], [18.5567079, 73.7948539], [18.5219074, 73.7652595], [18.5567682, 73.7948491], [18.5579955, 73.7931064]],\n",
       "                {&quot;blur&quot;: 15, &quot;maxZoom&quot;: 18, &quot;minOpacity&quot;: 0.5, &quot;radius&quot;: 25}\n",
       "            ).addTo(map_005d5303dc43d8a47da4692163562d38);\n",
       "        \n",
       "&lt;/script&gt;\n",
       "&lt;/html&gt;\" style=\"position:absolute;width:100%;height:100%;left:0;top:0;border:none !important;\" allowfullscreen webkitallowfullscreen mozallowfullscreen></iframe></div></div>"
      ],
      "text/plain": [
       "<folium.folium.Map at 0x1a6c5d469a0>"
      ]
     },
     "execution_count": 24,
     "metadata": {},
     "output_type": "execute_result"
    }
   ],
   "source": [
    "import folium\n",
    "from folium import plugins\n",
    "\n",
    "coord=[]\n",
    "for lat,lng in zip(completed_rides.dropoff_lat.values,completed_rides.dropoff_lng.values):\n",
    "  coord.append([lat,lng])\n",
    "\n",
    "map = folium.Map(\n",
    "    location=[-23.5489,-46.6388],\n",
    "    tiles='Stamen Terrain',\n",
    "    zoom_start=7,\n",
    "    width='80%', \n",
    "    height='50%',\n",
    "    control_scale=True)\n",
    "\n",
    "map.add_child(plugins.HeatMap(coord))\n",
    "        \n",
    "map"
   ]
  },
  {
   "cell_type": "markdown",
   "id": "5876de20",
   "metadata": {},
   "source": [
    "#### d. What product type was usually chosen?"
   ]
  },
  {
   "cell_type": "code",
   "execution_count": 25,
   "id": "49b7d6e7",
   "metadata": {},
   "outputs": [
    {
     "name": "stdout",
     "output_type": "stream",
     "text": [
      "          Total Rides     %\n",
      "UberGo             50  24.6\n",
      "UberAuto          153  75.4\n"
     ]
    },
    {
     "data": {
      "image/png": "[encoded data removed]",
      "text/plain": [
       "<Figure size 640x480 with 1 Axes>"
      ]
     },
     "metadata": {},
     "output_type": "display_data"
    }
   ],
   "source": [
    "# Creating a serie with product types count\n",
    "pt_rides = pd.Series(completed_rides.product_type.value_counts().sort_index(ascending=False))\n",
    "# Transforming serie in dataframe\n",
    "df = pd.DataFrame(pt_rides)\n",
    "# Including new column with trips portion\n",
    "df['%'] = (completed_rides.product_type.value_counts().sort_index(ascending=False)/completed_rides.product_type.size*100).round(1)\n",
    "#Renaming columns labels\n",
    "df.rename(columns={'product_type':'Total Rides'}, inplace=True)\n",
    "print(df)\n",
    "# Plotting product types count\n",
    "completed_rides['product_type'].value_counts().plot(kind='bar');"
   ]
  },
  {
   "cell_type": "markdown",
   "id": "8406e8a9",
   "metadata": {},
   "source": [
    "#### e. What was the average fare, distance, amount, and time spent on rides?"
   ]
  },
  {
   "cell_type": "code",
   "execution_count": 26,
   "id": "8079ccf6",
   "metadata": {},
   "outputs": [
    {
     "name": "stdout",
     "output_type": "stream",
     "text": [
      "Avg. fare: 91.3 BRL\n",
      "Avg. distance: 5.9 km\n",
      "Avg. fare/km: 15.6 BRL/km\n",
      "Avg. time spent on trips: 15.1 minutes\n",
      "\n",
      "Total fare amount: 18533.4 BRL\n",
      "Total distance: 1188.9 km\n",
      "Total time spent on trips: 51.2 hours\n"
     ]
    }
   ],
   "source": [
    "print('Avg. fare:', round(completed_rides.fare_amount.mean(),1),'BRL')\n",
    "print('Avg. distance:',round(completed_rides.distance_km.mean(),1),'km')\n",
    "print('Avg. fare/km:',round(completed_rides.fare_amount.sum()/completed_rides.distance_km.sum(),1),'BRL/km')\n",
    "print('Avg. time spent on trips:',round(completed_rides.trip_duration.mean(),1),'minutes')\n",
    "print('')\n",
    "print('Total fare amount:', round(completed_rides.fare_amount.sum(),1),'BRL')\n",
    "print('Total distance:',round(completed_rides.distance_km.sum(),1),'km')\n",
    "print('Total time spent on trips:',round(completed_rides.trip_duration.sum()/60,1),'hours')"
   ]
  },
  {
   "cell_type": "markdown",
   "id": "b17964a0",
   "metadata": {},
   "source": [
    "#### f. Which weekdays had the highest average fares per km ridden?"
   ]
  },
  {
   "cell_type": "code",
   "execution_count": 27,
   "id": "5d7fac44",
   "metadata": {},
   "outputs": [
    {
     "data": {
      "text/html": [
       "<div>\n",
       "<style scoped>\n",
       "    .dataframe tbody tr th:only-of-type {\n",
       "        vertical-align: middle;\n",
       "    }\n",
       "\n",
       "    .dataframe tbody tr th {\n",
       "        vertical-align: top;\n",
       "    }\n",
       "\n",
       "    .dataframe thead th {\n",
       "        text-align: right;\n",
       "    }\n",
       "</style>\n",
       "<table border=\"1\" class=\"dataframe\">\n",
       "  <thead>\n",
       "    <tr style=\"text-align: right;\">\n",
       "      <th>weekday</th>\n",
       "      <th>Mon</th>\n",
       "      <th>Tue</th>\n",
       "      <th>Wed</th>\n",
       "      <th>Thu</th>\n",
       "      <th>Fri</th>\n",
       "      <th>Sat</th>\n",
       "      <th>Sun</th>\n",
       "    </tr>\n",
       "    <tr>\n",
       "      <th>year</th>\n",
       "      <th></th>\n",
       "      <th></th>\n",
       "      <th></th>\n",
       "      <th></th>\n",
       "      <th></th>\n",
       "      <th></th>\n",
       "      <th></th>\n",
       "    </tr>\n",
       "  </thead>\n",
       "  <tbody>\n",
       "    <tr>\n",
       "      <th>2019</th>\n",
       "      <td>15.5</td>\n",
       "      <td>15.1</td>\n",
       "      <td>13.1</td>\n",
       "      <td>17.5</td>\n",
       "      <td>19.8</td>\n",
       "      <td>13.3</td>\n",
       "      <td>19.6</td>\n",
       "    </tr>\n",
       "    <tr>\n",
       "      <th>2020</th>\n",
       "      <td>13.8</td>\n",
       "      <td>15.6</td>\n",
       "      <td>14.6</td>\n",
       "      <td>15.3</td>\n",
       "      <td>18.8</td>\n",
       "      <td>18.0</td>\n",
       "      <td>13.8</td>\n",
       "    </tr>\n",
       "    <tr>\n",
       "      <th>2021</th>\n",
       "      <td>15.6</td>\n",
       "      <td>14.7</td>\n",
       "      <td>17.0</td>\n",
       "      <td>17.5</td>\n",
       "      <td>17.1</td>\n",
       "      <td>15.3</td>\n",
       "      <td>15.1</td>\n",
       "    </tr>\n",
       "    <tr>\n",
       "      <th>2022</th>\n",
       "      <td>15.2</td>\n",
       "      <td>14.2</td>\n",
       "      <td>15.3</td>\n",
       "      <td>15.3</td>\n",
       "      <td>15.9</td>\n",
       "      <td>13.6</td>\n",
       "      <td>14.6</td>\n",
       "    </tr>\n",
       "  </tbody>\n",
       "</table>\n",
       "</div>"
      ],
      "text/plain": [
       "weekday   Mon   Tue   Wed   Thu   Fri   Sat   Sun\n",
       "year                                             \n",
       "2019     15.5  15.1  13.1  17.5  19.8  13.3  19.6\n",
       "2020     13.8  15.6  14.6  15.3  18.8  18.0  13.8\n",
       "2021     15.6  14.7  17.0  17.5  17.1  15.3  15.1\n",
       "2022     15.2  14.2  15.3  15.3  15.9  13.6  14.6"
      ]
     },
     "execution_count": 27,
     "metadata": {},
     "output_type": "execute_result"
    }
   ],
   "source": [
    "#overlapping pivot tables to get weighted average\n",
    "amount_table = completed_rides.pivot_table(values='fare_amount',aggfunc='sum',columns='weekday', index='year').round(1)\n",
    "column_order = ['Mon','Tue','Wed','Thu','Fri','Sat','Sun']\n",
    "amount_table = amount_table.reindex(column_order, axis=1)\n",
    "\n",
    "distance_table = completed_rides.pivot_table(values='distance_km',aggfunc='sum',columns='weekday', index='year').round(1)\n",
    "distance_table = distance_table.reindex(column_order, axis=1)\n",
    "\n",
    "(amount_table/distance_table).round(1)"
   ]
  },
  {
   "cell_type": "code",
   "execution_count": 28,
   "id": "7690cd44",
   "metadata": {},
   "outputs": [
    {
     "data": {
      "image/png": "[encoded data removed]",
      "text/plain": [
       "<Figure size 1200x400 with 1 Axes>"
      ]
     },
     "metadata": {},
     "output_type": "display_data"
    }
   ],
   "source": [
    "#creating an auxiliar data frame to be displayed in category plot \n",
    "aux_serie = round((completed_rides.groupby('weekday')['fare_amount'].sum()/completed_rides.groupby('weekday')['distance_km'].sum()),2)                                                                                                                              \n",
    "amount_km_df = pd.DataFrame(aux_serie)\n",
    "\n",
    "amount_km_df = amount_km_df.reset_index()\n",
    "amount_km_df.rename(columns={'weekday':'weekday',0:'values'},inplace=True)\n",
    "\n",
    "sns.catplot(x='weekday', y='values', data=amount_km_df, kind='bar', height=4, aspect=3, order=['Mon','Tue','Wed','Thu','Fri','Sat','Sun'],palette='magma');"
   ]
  },
  {
   "cell_type": "markdown",
   "id": "3164b8e9",
   "metadata": {},
   "source": [
    "#### g. Which was the longest/shortest and more expensive/cheaper ride?"
   ]
  },
  {
   "cell_type": "code",
   "execution_count": 30,
   "id": "5fafdddd",
   "metadata": {},
   "outputs": [
    {
     "data": {
      "text/html": [
       "<div>\n",
       "<style scoped>\n",
       "    .dataframe tbody tr th:only-of-type {\n",
       "        vertical-align: middle;\n",
       "    }\n",
       "\n",
       "    .dataframe tbody tr th {\n",
       "        vertical-align: top;\n",
       "    }\n",
       "\n",
       "    .dataframe thead th {\n",
       "        text-align: right;\n",
       "    }\n",
       "</style>\n",
       "<table border=\"1\" class=\"dataframe\">\n",
       "  <thead>\n",
       "    <tr style=\"text-align: right;\">\n",
       "      <th></th>\n",
       "      <th>city</th>\n",
       "      <th>product_type</th>\n",
       "      <th>status</th>\n",
       "      <th>request_time</th>\n",
       "      <th>begin_time</th>\n",
       "      <th>begin_lat</th>\n",
       "      <th>begin_lng</th>\n",
       "      <th>Begin Trip Address</th>\n",
       "      <th>dropoff_time</th>\n",
       "      <th>dropoff_lat</th>\n",
       "      <th>...</th>\n",
       "      <th>distance_miles</th>\n",
       "      <th>fare_amount</th>\n",
       "      <th>year</th>\n",
       "      <th>month</th>\n",
       "      <th>weekday</th>\n",
       "      <th>time</th>\n",
       "      <th>distance_km</th>\n",
       "      <th>amount_km</th>\n",
       "      <th>request_lead_time</th>\n",
       "      <th>trip_duration</th>\n",
       "    </tr>\n",
       "  </thead>\n",
       "  <tbody>\n",
       "    <tr>\n",
       "      <th>396</th>\n",
       "      <td>Pune</td>\n",
       "      <td>UberGo</td>\n",
       "      <td>COMPLETED</td>\n",
       "      <td>2020-02-10 04:57:49</td>\n",
       "      <td>2020-02-10 05:06:59</td>\n",
       "      <td>18.541210</td>\n",
       "      <td>73.727375</td>\n",
       "      <td>College Entrance, Maharashtra 412115, India</td>\n",
       "      <td>2020-02-10 05:47:47</td>\n",
       "      <td>18.661324</td>\n",
       "      <td>...</td>\n",
       "      <td>15.35</td>\n",
       "      <td>319.81</td>\n",
       "      <td>2020</td>\n",
       "      <td>Feb</td>\n",
       "      <td>Mon</td>\n",
       "      <td>04:57</td>\n",
       "      <td>24.70</td>\n",
       "      <td>12.95</td>\n",
       "      <td>9.2</td>\n",
       "      <td>40.8</td>\n",
       "    </tr>\n",
       "    <tr>\n",
       "      <th>450</th>\n",
       "      <td>Pune</td>\n",
       "      <td>UberAuto</td>\n",
       "      <td>COMPLETED</td>\n",
       "      <td>2020-01-02 11:57:06</td>\n",
       "      <td>2020-01-02 12:05:07</td>\n",
       "      <td>18.576622</td>\n",
       "      <td>73.773511</td>\n",
       "      <td>44, SR NO.44/12/1, Radha Krishna Hostel, Newar...</td>\n",
       "      <td>2020-01-02 12:07:56</td>\n",
       "      <td>18.573815</td>\n",
       "      <td>...</td>\n",
       "      <td>0.38</td>\n",
       "      <td>30.44</td>\n",
       "      <td>2020</td>\n",
       "      <td>Jan</td>\n",
       "      <td>Thu</td>\n",
       "      <td>11:57</td>\n",
       "      <td>0.61</td>\n",
       "      <td>49.90</td>\n",
       "      <td>8.0</td>\n",
       "      <td>2.8</td>\n",
       "    </tr>\n",
       "  </tbody>\n",
       "</table>\n",
       "<p>2 rows × 22 columns</p>\n",
       "</div>"
      ],
      "text/plain": [
       "     city product_type     status        request_time          begin_time  \\\n",
       "396  Pune       UberGo  COMPLETED 2020-02-10 04:57:49 2020-02-10 05:06:59   \n",
       "450  Pune     UberAuto  COMPLETED 2020-01-02 11:57:06 2020-01-02 12:05:07   \n",
       "\n",
       "     begin_lat  begin_lng                                 Begin Trip Address  \\\n",
       "396  18.541210  73.727375        College Entrance, Maharashtra 412115, India   \n",
       "450  18.576622  73.773511  44, SR NO.44/12/1, Radha Krishna Hostel, Newar...   \n",
       "\n",
       "           dropoff_time  dropoff_lat  ...  distance_miles fare_amount  year  \\\n",
       "396 2020-02-10 05:47:47    18.661324  ...           15.35      319.81  2020   \n",
       "450 2020-01-02 12:07:56    18.573815  ...            0.38       30.44  2020   \n",
       "\n",
       "     month weekday   time distance_km amount_km  request_lead_time  \\\n",
       "396    Feb     Mon  04:57       24.70     12.95                9.2   \n",
       "450    Jan     Thu  11:57        0.61     49.90                8.0   \n",
       "\n",
       "     trip_duration  \n",
       "396           40.8  \n",
       "450            2.8  \n",
       "\n",
       "[2 rows x 22 columns]"
      ]
     },
     "execution_count": 30,
     "metadata": {},
     "output_type": "execute_result"
    }
   ],
   "source": [
    "rides_distance = completed_rides[completed_rides.distance_km == completed_rides.distance_km.max()]\n",
    "rides_distance = pd.concat([rides_distance, completed_rides[completed_rides.distance_km == completed_rides.distance_km.min()]])\n",
    "rides_distance"
   ]
  },
  {
   "cell_type": "code",
   "execution_count": 33,
   "id": "596f121c",
   "metadata": {},
   "outputs": [
    {
     "data": {
      "text/html": [
       "<div>\n",
       "<style scoped>\n",
       "    .dataframe tbody tr th:only-of-type {\n",
       "        vertical-align: middle;\n",
       "    }\n",
       "\n",
       "    .dataframe tbody tr th {\n",
       "        vertical-align: top;\n",
       "    }\n",
       "\n",
       "    .dataframe thead th {\n",
       "        text-align: right;\n",
       "    }\n",
       "</style>\n",
       "<table border=\"1\" class=\"dataframe\">\n",
       "  <thead>\n",
       "    <tr style=\"text-align: right;\">\n",
       "      <th></th>\n",
       "      <th>city</th>\n",
       "      <th>product_type</th>\n",
       "      <th>status</th>\n",
       "      <th>request_time</th>\n",
       "      <th>begin_time</th>\n",
       "      <th>begin_lat</th>\n",
       "      <th>begin_lng</th>\n",
       "      <th>Begin Trip Address</th>\n",
       "      <th>dropoff_time</th>\n",
       "      <th>dropoff_lat</th>\n",
       "      <th>...</th>\n",
       "      <th>distance_miles</th>\n",
       "      <th>fare_amount</th>\n",
       "      <th>year</th>\n",
       "      <th>month</th>\n",
       "      <th>weekday</th>\n",
       "      <th>time</th>\n",
       "      <th>distance_km</th>\n",
       "      <th>amount_km</th>\n",
       "      <th>request_lead_time</th>\n",
       "      <th>trip_duration</th>\n",
       "    </tr>\n",
       "  </thead>\n",
       "  <tbody>\n",
       "    <tr>\n",
       "      <th>450</th>\n",
       "      <td>Pune</td>\n",
       "      <td>UberAuto</td>\n",
       "      <td>COMPLETED</td>\n",
       "      <td>2020-01-02 11:57:06</td>\n",
       "      <td>2020-01-02 12:05:07</td>\n",
       "      <td>18.576622</td>\n",
       "      <td>73.773511</td>\n",
       "      <td>44, SR NO.44/12/1, Radha Krishna Hostel, Newar...</td>\n",
       "      <td>2020-01-02 12:07:56</td>\n",
       "      <td>18.573815</td>\n",
       "      <td>...</td>\n",
       "      <td>0.38</td>\n",
       "      <td>30.44</td>\n",
       "      <td>2020</td>\n",
       "      <td>Jan</td>\n",
       "      <td>Thu</td>\n",
       "      <td>11:57</td>\n",
       "      <td>0.61</td>\n",
       "      <td>49.90</td>\n",
       "      <td>8.0</td>\n",
       "      <td>2.8</td>\n",
       "    </tr>\n",
       "    <tr>\n",
       "      <th>465</th>\n",
       "      <td>Pune</td>\n",
       "      <td>UberAuto</td>\n",
       "      <td>COMPLETED</td>\n",
       "      <td>2019-12-17 09:43:47</td>\n",
       "      <td>2019-12-17 09:50:49</td>\n",
       "      <td>18.566668</td>\n",
       "      <td>73.769441</td>\n",
       "      <td>Veerbhadra Nagar, Baner, Pune, Maharashtra 411...</td>\n",
       "      <td>2019-12-17 09:58:39</td>\n",
       "      <td>18.576713</td>\n",
       "      <td>...</td>\n",
       "      <td>1.62</td>\n",
       "      <td>22.34</td>\n",
       "      <td>2019</td>\n",
       "      <td>Dec</td>\n",
       "      <td>Tue</td>\n",
       "      <td>09:43</td>\n",
       "      <td>2.61</td>\n",
       "      <td>8.56</td>\n",
       "      <td>7.0</td>\n",
       "      <td>7.8</td>\n",
       "    </tr>\n",
       "  </tbody>\n",
       "</table>\n",
       "<p>2 rows × 22 columns</p>\n",
       "</div>"
      ],
      "text/plain": [
       "     city product_type     status        request_time          begin_time  \\\n",
       "450  Pune     UberAuto  COMPLETED 2020-01-02 11:57:06 2020-01-02 12:05:07   \n",
       "465  Pune     UberAuto  COMPLETED 2019-12-17 09:43:47 2019-12-17 09:50:49   \n",
       "\n",
       "     begin_lat  begin_lng                                 Begin Trip Address  \\\n",
       "450  18.576622  73.773511  44, SR NO.44/12/1, Radha Krishna Hostel, Newar...   \n",
       "465  18.566668  73.769441  Veerbhadra Nagar, Baner, Pune, Maharashtra 411...   \n",
       "\n",
       "           dropoff_time  dropoff_lat  ...  distance_miles fare_amount  year  \\\n",
       "450 2020-01-02 12:07:56    18.573815  ...            0.38       30.44  2020   \n",
       "465 2019-12-17 09:58:39    18.576713  ...            1.62       22.34  2019   \n",
       "\n",
       "     month weekday   time distance_km amount_km  request_lead_time  \\\n",
       "450    Jan     Thu  11:57        0.61     49.90                8.0   \n",
       "465    Dec     Tue  09:43        2.61      8.56                7.0   \n",
       "\n",
       "     trip_duration  \n",
       "450            2.8  \n",
       "465            7.8  \n",
       "\n",
       "[2 rows x 22 columns]"
      ]
     },
     "execution_count": 33,
     "metadata": {},
     "output_type": "execute_result"
    }
   ],
   "source": [
    "rides_amount_km = completed_rides[completed_rides.amount_km==completed_rides.amount_km.max()]\n",
    "rides_amount_km = pd.concat([completed_rides[completed_rides.amount_km == completed_rides.amount_km.max()],\n",
    "                             completed_rides[completed_rides.amount_km == completed_rides.amount_km.min()]])\n",
    "rides_amount_km"
   ]
  },
  {
   "cell_type": "markdown",
   "id": "b5ec8c3d",
   "metadata": {},
   "source": [
    "#### h. What was the average lead time before beginning a trip?"
   ]
  },
  {
   "cell_type": "code",
   "execution_count": 34,
   "id": "b6d7398f",
   "metadata": {},
   "outputs": [
    {
     "name": "stdout",
     "output_type": "stream",
     "text": [
      "8.4 minutes\n"
     ]
    }
   ],
   "source": [
    "print(round(completed_rides.request_lead_time.mean(),1),'minutes')"
   ]
  },
  {
   "cell_type": "markdown",
   "id": "c4b08fad",
   "metadata": {},
   "source": [
    "### 4. Conclusion \n",
    "\n",
    "1. Exploratory Data Analysis (EDA) is a non-trivial task that requires significant effort and patience.\n",
    "2. EDA can be a powerful tool for businesses when applied correctly.\n",
    "3. This post provided tips and steps to make the analysis process easier.\n",
    "4. It emphasized the importance of defining a clear business problem to guide coding efforts and achieve specific objectives.\n",
    "5. The post highlighted the significance of uncovering important insights through EDA.\n",
    "6. It showcased a practical application of Python in daily business activities, highlighting its value and interest.\n",
    "7. Overall, the post underscored the potential and importance of effectively using EDA in a business context."
   ]
  }
 ],
 "metadata": {
  "kernelspec": {
   "display_name": "Python 3 (ipykernel)",
   "language": "python",
   "name": "python3"
  },
  "language_info": {
   "codemirror_mode": {
    "name": "ipython",
    "version": 3
   },
   "file_extension": ".py",
   "mimetype": "text/x-python",
   "name": "python",
   "nbconvert_exporter": "python",
   "pygments_lexer": "ipython3",
   "version": "3.9.13"
  }
 },
 "nbformat": 4,
 "nbformat_minor": 5
}
